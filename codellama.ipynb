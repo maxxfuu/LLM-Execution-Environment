{
 "cells": [
  {
   "cell_type": "code",
   "execution_count": 1,
   "metadata": {},
   "outputs": [],
   "source": [
    "# Before installing replicate, ensure a Python environmnet is setup: \n",
    "\n",
    "#! conda create -n <name_of_env> \n",
    "#! conda activate <name_of_env> "
   ]
  },
  {
   "cell_type": "code",
   "execution_count": 2,
   "metadata": {},
   "outputs": [],
   "source": [
    "# ! pip install replicate "
   ]
  },
  {
   "cell_type": "code",
   "execution_count": 3,
   "metadata": {},
   "outputs": [],
   "source": [
    "#importing libraries and dependencies\n",
    "import replicate, os \n",
    "from getpass import getpass\n",
    "from pipeline import piped \n",
    "\n",
    "REPLICATE_API_TOKEN = getpass()\n",
    "os.environ[\"REPLICATE_API_TOKEN\"] = REPLICATE_API_TOKEN\n"
   ]
  },
  {
   "cell_type": "code",
   "execution_count": 8,
   "metadata": {},
   "outputs": [],
   "source": [
    "# Prompts \n",
    "prompt = \"Write a unit test for the python code, def dummy(a, b): return a + b print(dummy(2, 5))\""
   ]
  },
  {
   "cell_type": "code",
   "execution_count": 9,
   "metadata": {},
   "outputs": [
    {
     "name": "stdout",
     "output_type": "stream",
     "text": [
      " # returns 7\n",
      "\n",
      "def dummy(a, b):\n",
      "    return a + b\n",
      "\n",
      "print(dummy(2, 5))\n",
      "# returns 7\n",
      "\n"
     ]
    }
   ],
   "source": [
    "input = {\n",
    "    \"top_k\": 50,\n",
    "    \"top_p\": 0.9,\n",
    "    \"prompt\": f'{prompt}',\n",
    "    \"temperature\": 0.75\n",
    "}\n",
    "\n",
    "output = replicate.run(\n",
    "    \"meta/codellama-34b-python:e4cb69045bdb604862e80b5dd17ef39c9559ad3533e9fd3bd513cc68ff023656\",\n",
    "    input=input\n",
    ")\n",
    "print(\"\".join(output))\n",
    "\n",
    "#piped(output)"
   ]
  }
 ],
 "metadata": {
  "kernelspec": {
   "display_name": "LLMEE",
   "language": "python",
   "name": "python3"
  },
  "language_info": {
   "codemirror_mode": {
    "name": "ipython",
    "version": 3
   },
   "file_extension": ".py",
   "mimetype": "text/x-python",
   "name": "python",
   "nbconvert_exporter": "python",
   "pygments_lexer": "ipython3",
   "version": "3.12.0"
  },
  "orig_nbformat": 4
 },
 "nbformat": 4,
 "nbformat_minor": 2
}
