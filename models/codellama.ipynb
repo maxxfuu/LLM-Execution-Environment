{
 "cells": [
  {
   "cell_type": "code",
   "execution_count": 1,
   "metadata": {},
   "outputs": [],
   "source": [
    "# Before installing replicate, ensure a Python environmnet is setup: \n",
    "\n",
    "#! conda create -n <name_of_env> \n",
    "#! conda activate <name_of_env> "
   ]
  },
  {
   "cell_type": "code",
   "execution_count": 2,
   "metadata": {},
   "outputs": [],
   "source": [
    "# ! pip install replicate "
   ]
  },
  {
   "cell_type": "code",
   "execution_count": 3,
   "metadata": {},
   "outputs": [],
   "source": [
    "#importing libraries and dependencies\n",
    "import replicate, os \n",
    "from getpass import getpass\n",
    "from pipeline import piped \n",
    "\n",
    "RREPLICATE_API_TOKEN= \"r8_V8UnHYeMOMkMHnfT8cyjjzYXherCWoU0jhiKO\"\n",
    "os.environ[\"REPLICATE_API_TOKEN\"] = RREPLICATE_API_TOKEN\n"
   ]
  },
  {
   "cell_type": "code",
   "execution_count": 4,
   "metadata": {},
   "outputs": [],
   "source": [
    "# Prompts \n",
    "prompt = \"Write a unit test for the python code, def dummy(a, b): return a + b print(dummy(2, 5))\""
   ]
  },
  {
   "cell_type": "code",
   "execution_count": 5,
   "metadata": {},
   "outputs": [
    {
     "name": "stdout",
     "output_type": "stream",
     "text": [
      "  Here's an example of how you could write a unit test for the `dummy` function using the built-in `unittest` module in Python:\n",
      "```\n",
      "import unittest\n",
      "from dummy import dummy\n",
      "\n",
      "class TestDummy(unittest.TestCase):\n",
      "    def test_dummy(self):\n",
      "        result = dummy(2, 5)\n",
      "        self.assertEqual(result, 7)\n",
      "\n",
      "if __name__ == '__main__':\n",
      "    unittest.main()\n",
      "```\n",
      "This code defines a `TestDummy` class that inherits from `unittest.TestCase`. It contains one test method called `test_dummy`, which calls the `dummy` function with the arguments 2 and 5, and then asserts that the result is equal to 7 using the `assertEqual` method.\n",
      "\n",
      "You can run this code by saving it in a file (e.g., `test_dummy.py`) and then running it from the command line using the `python` command:\n",
      "```\n",
      "$ python test_dummy.py\n",
      "```\n",
      "This will run the unit tests in the `TestDummy` class, which will check that the `dummy` function returns the correct result when given the arguments 2 and 5. If the test passes, you should see a message like this:\n",
      "```\n",
      "Ran 1 test in 0.000s\n",
      "\n",
      "OK\n",
      "```\n",
      "If the test fails (e.g., if the `dummy` function returns a different result than expected), you will see a message like this:\n",
      "```\n",
      "FAILED (failures=1)\n",
      "```\n"
     ]
    }
   ],
   "source": [
    "input = {\n",
    "    \"top_k\": 50,\n",
    "    \"top_p\": 0.9,\n",
    "    \"prompt\": prompt,\n",
    "    \"temperature\": 0.75,\n",
    "    \"system_prompt\": \"Responses should be written in Python.\"\n",
    "}\n",
    "\n",
    "output = replicate.run(\n",
    "    \"meta/codellama-34b-instruct:eeb928567781f4e90d2aba57a51baef235de53f907c214a4ab42adabf5bb9736\",\n",
    "    input=input\n",
    ")\n",
    "print(\"\".join(output))"
   ]
  },
  {
   "cell_type": "code",
   "execution_count": 6,
   "metadata": {},
   "outputs": [
    {
     "name": "stdout",
     "output_type": "stream",
     "text": [
      "<class 'generator'>\n"
     ]
    }
   ],
   "source": [
    "print(type(output))"
   ]
  }
 ],
 "metadata": {
  "kernelspec": {
   "display_name": "LLMEE",
   "language": "python",
   "name": "python3"
  },
  "language_info": {
   "codemirror_mode": {
    "name": "ipython",
    "version": 3
   },
   "file_extension": ".py",
   "mimetype": "text/x-python",
   "name": "python",
   "nbconvert_exporter": "python",
   "pygments_lexer": "ipython3",
   "version": "3.12.0"
  },
  "orig_nbformat": 4
 },
 "nbformat": 4,
 "nbformat_minor": 2
}
