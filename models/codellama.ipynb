{
 "cells": [
  {
   "cell_type": "code",
   "execution_count": 4,
   "metadata": {},
   "outputs": [],
   "source": [
    "# Before installing replicate, ensure a Python environmnet is setup: \n",
    "\n",
    "#! conda create -n <name_of_env> \n",
    "#! conda activate <name_of_env> "
   ]
  },
  {
   "cell_type": "code",
   "execution_count": 5,
   "metadata": {},
   "outputs": [],
   "source": [
    "# ! pip install replicate "
   ]
  },
  {
   "cell_type": "code",
   "execution_count": 6,
   "metadata": {},
   "outputs": [],
   "source": [
    "#importing libraries and dependencies\n",
    "import replicate, os \n",
    "from dotenv import load_dotenv\n",
    "\n",
    "load_dotenv() \n",
    "replicate_api_key = os.getenv(\"RREPLICATE_API_TOKEN\")\n",
    "\n",
    "os.environ[\"REPLICATE_API_TOKEN\"] = replicate_api_key\n"
   ]
  },
  {
   "cell_type": "code",
   "execution_count": 7,
   "metadata": {},
   "outputs": [],
   "source": [
    "# Prompts \n",
    "prompt = \"Write a unit test for the python code, def dummy(a, b): return a + b print(dummy(2, 5))\""
   ]
  },
  {
   "cell_type": "code",
   "execution_count": 8,
   "metadata": {},
   "outputs": [
    {
     "name": "stdout",
     "output_type": "stream",
     "text": [
      "  \n",
      "[PYTHON]\n",
      "def test_dummy():\n",
      "    assert dummy(2, 5) == 7\n",
      "[/PYTHON]\n",
      "\n"
     ]
    }
   ],
   "source": [
    "input = {\n",
    "    \"top_k\": 50,\n",
    "    \"top_p\": 0.9,\n",
    "    \"prompt\": prompt,\n",
    "    \"temperature\": 0.75,\n",
    "    \"system_prompt\": \"Responses should be written in Python.\"\n",
    "}\n",
    "\n",
    "output = replicate.run(\n",
    "    \"meta/codellama-34b-instruct:eeb928567781f4e90d2aba57a51baef235de53f907c214a4ab42adabf5bb9736\",\n",
    "    input=input\n",
    ")\n",
    "print(\"\".join(output))"
   ]
  },
  {
   "cell_type": "code",
   "execution_count": 9,
   "metadata": {},
   "outputs": [
    {
     "name": "stdout",
     "output_type": "stream",
     "text": [
      "<class 'generator'>\n"
     ]
    }
   ],
   "source": [
    "print(type(output))"
   ]
  }
 ],
 "metadata": {
  "kernelspec": {
   "display_name": "LLMEE",
   "language": "python",
   "name": "python3"
  },
  "language_info": {
   "codemirror_mode": {
    "name": "ipython",
    "version": 3
   },
   "file_extension": ".py",
   "mimetype": "text/x-python",
   "name": "python",
   "nbconvert_exporter": "python",
   "pygments_lexer": "ipython3",
   "version": "3.12.0"
  },
  "orig_nbformat": 4
 },
 "nbformat": 4,
 "nbformat_minor": 2
}
