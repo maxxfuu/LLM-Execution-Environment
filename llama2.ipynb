{
 "cells": [
  {
   "cell_type": "code",
   "execution_count": 1,
   "metadata": {},
   "outputs": [],
   "source": [
    "# Before installing replicate, ensure a Python environmnet is setup: \n",
    "\n",
    "#! conda create -n <name_of_env> \n",
    "#! conda activate <name_of_env> "
   ]
  },
  {
   "cell_type": "code",
   "execution_count": 2,
   "metadata": {},
   "outputs": [],
   "source": [
    "# ! pip install replicate "
   ]
  },
  {
   "cell_type": "code",
   "execution_count": 7,
   "metadata": {},
   "outputs": [],
   "source": [
    "#importing libraries and dependencies\n",
    "import replicate, os \n",
    "from pipeline import piped \n",
    "\n",
    "os.environ[\"REPLICATE_API_TOKEN\"] = \"r8_SFji4mlgRjpQUkSpUFujrIx9qZQD5JL1iylib\""
   ]
  },
  {
   "cell_type": "code",
   "execution_count": 8,
   "metadata": {},
   "outputs": [],
   "source": [
    "# Prompts \n",
    "\n",
    "#pre_promts = \"Print only the script for the code.\"\n",
    "prompt = \"Write a script that prints \\\" Hello World !\\\" in Python\""
   ]
  },
  {
   "cell_type": "code",
   "execution_count": 9,
   "metadata": {},
   "outputs": [
    {
     "name": "stdout",
     "output_type": "stream",
     "text": [
      ". \n",
      "```Python\n",
      "#Program to Print \" Hello World !\"\n",
      "print(\"Hello World !\") \n",
      "\n"
     ]
    }
   ],
   "source": [
    "\n",
    "\n",
    "input = {\n",
    "    \"top_k\": 250,\n",
    "    \"prompt\": f\"{prompt}\",\n",
    "    \"temperature\": 0.95\n",
    "}\n",
    "\n",
    "output = replicate.run(\n",
    "    \"meta/codellama-13b:511fc67df70ee2d584375b6f1463d8d7d9ca7e6131e0f0a879d32d99bce17351\",\n",
    "    input=input\n",
    ")\n",
    "print(\"\".join(output))\n",
    "\n",
    "#piped(output)"
   ]
  },
  {
   "cell_type": "code",
   "execution_count": null,
   "metadata": {},
   "outputs": [],
   "source": []
  }
 ],
 "metadata": {
  "kernelspec": {
   "display_name": "LLMEE",
   "language": "python",
   "name": "python3"
  },
  "language_info": {
   "codemirror_mode": {
    "name": "ipython",
    "version": 3
   },
   "file_extension": ".py",
   "mimetype": "text/x-python",
   "name": "python",
   "nbconvert_exporter": "python",
   "pygments_lexer": "ipython3",
   "version": "3.12.2"
  },
  "orig_nbformat": 4
 },
 "nbformat": 4,
 "nbformat_minor": 2
}
